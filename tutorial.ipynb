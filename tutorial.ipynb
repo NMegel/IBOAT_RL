{
 "cells": [
  {
   "cell_type": "markdown",
   "metadata": {
    "collapsed": true
   },
   "source": [
    "### <center> <h2>  IBOAT RL Tutorial - Stall avoidance </h2> </center>"
   ]
  },
  {
   "cell_type": "markdown",
   "metadata": {},
   "source": [
    "### Intro :\n",
    "<div class=\"alert alert-success\" style=\"margin-top: 1em\">\n",
    "\n",
    "\n",
    "Going through this notebook is the best way to get familiar with the scripts of the repository: https://github.com/tristan-ka/IBOAT_RL. \n",
    "\n",
    "The tutorial starts slowly by explaining how to run simulations that respsect the Markov Decision Process formalism. We later present how to train models to learn sailing behaviors. If you believe that this tutorial lacks clarity you can refer to the documentation of the classes used here on the following page: https://tristan-ka.github.io/IBOAT_RL/\n",
    "</div>"
   ]
  },
  {
   "cell_type": "markdown",
   "metadata": {},
   "source": [
    "#### Table des matières\n",
    "\n",
    "1. MDP simulation using the simplified simulator\n",
    "2. MDP simulation using the realistic simulator\n",
    "3. Training a DQN agent on the simplified simulator\n",
    "    - Training\n",
    "    - Visualizing results\n",
    "4. Training a DDDP agent on the simplified simulator"
   ]
  },
  {
   "cell_type": "markdown",
   "metadata": {
    "collapsed": true
   },
   "source": [
    "### 1. MDP simulation using the simplified simulator"
   ]
  },
  {
   "cell_type": "markdown",
   "metadata": {},
   "source": [
    "### 2. MDP simulation using the realistic simulator"
   ]
  },
  {
   "cell_type": "markdown",
   "metadata": {},
   "source": [
    "### 3. Training a DQN agent on the simplified simulator"
   ]
  },
  {
   "cell_type": "markdown",
   "metadata": {},
   "source": [
    "#### Training"
   ]
  },
  {
   "cell_type": "markdown",
   "metadata": {},
   "source": [
    "#### Visualizing results"
   ]
  },
  {
   "cell_type": "markdown",
   "metadata": {},
   "source": [
    "### 4. Training a DDDP agent on the simplified simulator"
   ]
  },
  {
   "cell_type": "code",
   "execution_count": null,
   "metadata": {
    "collapsed": true
   },
   "outputs": [],
   "source": []
  }
 ],
 "metadata": {
  "kernelspec": {
   "display_name": "Python 3",
   "language": "python",
   "name": "python3"
  },
  "language_info": {
   "codemirror_mode": {
    "name": "ipython",
    "version": 3
   },
   "file_extension": ".py",
   "mimetype": "text/x-python",
   "name": "python",
   "nbconvert_exporter": "python",
   "pygments_lexer": "ipython3",
   "version": "3.6.1"
  }
 },
 "nbformat": 4,
 "nbformat_minor": 2
}
